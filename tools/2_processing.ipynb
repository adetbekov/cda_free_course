{
 "cells": [
  {
   "cell_type": "markdown",
   "id": "87e7f68d-a3f7-42a8-a529-63c19ccbc3f9",
   "metadata": {},
   "source": [
    "# Загрузка, обработка и фильтрация данных"
   ]
  },
  {
   "cell_type": "markdown",
   "id": "cb64ff34-2321-4c45-915c-0b078b25d037",
   "metadata": {},
   "source": [
    "## Загрузка данных"
   ]
  },
  {
   "cell_type": "code",
   "execution_count": null,
   "id": "a4503191-78cf-4367-9b61-5a01efc54a5d",
   "metadata": {},
   "outputs": [],
   "source": [
    "import pandas as pd"
   ]
  },
  {
   "cell_type": "code",
   "execution_count": null,
   "id": "01133e7d-4561-4fda-b334-95478d883735",
   "metadata": {},
   "outputs": [],
   "source": []
  },
  {
   "cell_type": "code",
   "execution_count": null,
   "id": "7ac49bf2-e7ef-447c-bc23-972ed256685f",
   "metadata": {},
   "outputs": [],
   "source": []
  },
  {
   "cell_type": "markdown",
   "id": "63ccea02-1a81-403d-a50a-8af26cc8c826",
   "metadata": {},
   "source": [
    "## Обработка данных"
   ]
  },
  {
   "cell_type": "markdown",
   "id": "635ddc0a-07d1-4165-8095-1372c33fc0df",
   "metadata": {},
   "source": [
    "### Удаление дубликатов"
   ]
  },
  {
   "cell_type": "code",
   "execution_count": null,
   "id": "59fdd035-851a-48aa-9772-2b861f697abc",
   "metadata": {},
   "outputs": [],
   "source": []
  },
  {
   "cell_type": "code",
   "execution_count": null,
   "id": "64321f87-bf50-4bf7-8174-126a039c771a",
   "metadata": {},
   "outputs": [],
   "source": []
  },
  {
   "cell_type": "code",
   "execution_count": null,
   "id": "7b75f2cc-614a-4d84-96cf-7b4f6309c105",
   "metadata": {},
   "outputs": [],
   "source": []
  },
  {
   "cell_type": "markdown",
   "id": "d3409091-4854-4652-9413-2e9b32086d0e",
   "metadata": {},
   "source": [
    "### Обработка пропущенных значений"
   ]
  },
  {
   "cell_type": "code",
   "execution_count": null,
   "id": "4a20bd8d-ce78-4ead-8f00-3686eee0e608",
   "metadata": {},
   "outputs": [],
   "source": []
  },
  {
   "cell_type": "code",
   "execution_count": null,
   "id": "5bf57616-7714-4ffe-b977-a394587c49bf",
   "metadata": {},
   "outputs": [],
   "source": []
  },
  {
   "cell_type": "markdown",
   "id": "ff8d54e0-a3d0-4a80-b24c-2c6d911908fc",
   "metadata": {},
   "source": [
    "### Преобразование типов данных:"
   ]
  },
  {
   "cell_type": "code",
   "execution_count": null,
   "id": "a24a5cb0-8f20-4f7c-941f-195b52dd01e3",
   "metadata": {},
   "outputs": [],
   "source": []
  },
  {
   "cell_type": "code",
   "execution_count": null,
   "id": "8db384cc-1d58-4d94-a78b-b5d7811da5f6",
   "metadata": {},
   "outputs": [],
   "source": []
  },
  {
   "cell_type": "markdown",
   "id": "1809a55d-0dda-4606-b5aa-d96ef31bcf96",
   "metadata": {},
   "source": [
    "## Фильтрация данных"
   ]
  },
  {
   "cell_type": "markdown",
   "id": "a9baf206-31ee-4dac-b370-70763486487e",
   "metadata": {},
   "source": [
    "### Фильтрация по возрасту"
   ]
  },
  {
   "cell_type": "code",
   "execution_count": null,
   "id": "9252f12f-3b7a-44df-8ffa-9ef9050eee08",
   "metadata": {},
   "outputs": [],
   "source": []
  },
  {
   "cell_type": "code",
   "execution_count": null,
   "id": "e098c207-b525-4313-9da2-39042c1da7b0",
   "metadata": {},
   "outputs": [],
   "source": []
  },
  {
   "cell_type": "markdown",
   "id": "b7c3064d-e51e-44c9-8b13-8f0e6efa2534",
   "metadata": {},
   "source": [
    "### Фильтрация с использованием нескольких условий"
   ]
  },
  {
   "cell_type": "code",
   "execution_count": null,
   "id": "68574a42-91fe-4ef0-9dae-166bd2513122",
   "metadata": {},
   "outputs": [],
   "source": []
  },
  {
   "cell_type": "code",
   "execution_count": null,
   "id": "eb80f289-73cd-43e9-8bd3-339159b21af0",
   "metadata": {},
   "outputs": [],
   "source": []
  }
 ],
 "metadata": {
  "kernelspec": {
   "display_name": "Python 3 (ipykernel)",
   "language": "python",
   "name": "python3"
  },
  "language_info": {
   "codemirror_mode": {
    "name": "ipython",
    "version": 3
   },
   "file_extension": ".py",
   "mimetype": "text/x-python",
   "name": "python",
   "nbconvert_exporter": "python",
   "pygments_lexer": "ipython3",
   "version": "3.11.4"
  }
 },
 "nbformat": 4,
 "nbformat_minor": 5
}
