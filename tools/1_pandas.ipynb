{
 "cells": [
  {
   "cell_type": "markdown",
   "id": "6121b5f6-b7cc-4cf9-8909-98b810126405",
   "metadata": {},
   "source": [
    "# Работа с данными и инструментами"
   ]
  },
  {
   "cell_type": "markdown",
   "id": "762b9b01-2d29-4146-a41f-32da437c0dca",
   "metadata": {},
   "source": [
    "## Установка и импорт Pandas"
   ]
  },
  {
   "cell_type": "markdown",
   "id": "cec13a94-a22b-4f6e-a04f-3b46e9f47b02",
   "metadata": {},
   "source": [
    "Для начала, убедимся, что у вас установлен Pandas. Если не установлен, выполните команду `pip install pandas` в терминале или `!pip install pandas` ниже в ячейке."
   ]
  },
  {
   "cell_type": "code",
   "execution_count": null,
   "id": "9d99bac3-fb59-42fe-b211-37a3bf7c6502",
   "metadata": {},
   "outputs": [],
   "source": [
    "!pip install pandas"
   ]
  },
  {
   "cell_type": "markdown",
   "id": "5c7a3c00-e5c5-4e9e-9a25-8e1ad3c097db",
   "metadata": {},
   "source": [
    "## Основные объекты Pandas: Series и DataFrame"
   ]
  },
  {
   "cell_type": "code",
   "execution_count": null,
   "id": "d979368a-9d6a-4846-894a-d5a8694adf06",
   "metadata": {},
   "outputs": [],
   "source": [
    "import pandas as pd"
   ]
  },
  {
   "cell_type": "markdown",
   "id": "7c0fe4f1-179b-4d5b-ad0d-e5834eb4c3a1",
   "metadata": {},
   "source": [
    "### Работа с Series\n",
    "- **Создание Series**: Ячейка кода, демонстрирующая создание pandas Series из списка чисел `[1, 2, 3, 4, 5]`."
   ]
  },
  {
   "cell_type": "code",
   "execution_count": null,
   "id": "a810e42a-548e-46bd-b44f-a800b1aa8ade",
   "metadata": {},
   "outputs": [],
   "source": []
  },
  {
   "cell_type": "code",
   "execution_count": null,
   "id": "375e5000-1ab9-46ec-8815-190dac2f02d1",
   "metadata": {},
   "outputs": [],
   "source": []
  },
  {
   "cell_type": "markdown",
   "id": "45dc4137-1792-4beb-b437-dcf1e2d9687c",
   "metadata": {},
   "source": [
    "### Работа с DataFrames\n",
    "- **Создание DataFrame**: Ячейка кода для создания DataFrame с именами и возрастами. DataFrame содержит два столбца: 'Имя' с записями 'Жанна', 'Арман', 'Дамир' и 'Возраст' с возрастами 25, 30 и 35.\n"
   ]
  },
  {
   "cell_type": "code",
   "execution_count": null,
   "id": "05e255b0-ef80-4a1f-9e05-6fa96505a956",
   "metadata": {},
   "outputs": [],
   "source": []
  },
  {
   "cell_type": "code",
   "execution_count": null,
   "id": "fb50bb57-1474-46c1-95f8-ca55ecf6d252",
   "metadata": {},
   "outputs": [],
   "source": []
  },
  {
   "cell_type": "markdown",
   "id": "523b642e-a2ea-45cd-aa28-aa9037582d95",
   "metadata": {},
   "source": [
    "## Индексация и выбор данных"
   ]
  },
  {
   "cell_type": "markdown",
   "id": "e22dcf4f-7bb0-4b78-abec-065b6b70e9f3",
   "metadata": {},
   "source": [
    "### Выбрать первую строку"
   ]
  },
  {
   "cell_type": "code",
   "execution_count": null,
   "id": "4ab565c4-e4bc-421e-b0fc-568a8e3a26c8",
   "metadata": {},
   "outputs": [],
   "source": []
  },
  {
   "cell_type": "code",
   "execution_count": null,
   "id": "b4a4f8db-e8ef-441b-b56c-0e4ef24a2c0b",
   "metadata": {},
   "outputs": [],
   "source": []
  },
  {
   "cell_type": "markdown",
   "id": "0556a5b0-df5d-409b-9ac1-5f1b225c9b81",
   "metadata": {},
   "source": [
    "### Выбрать строки, где возраст больше 30"
   ]
  },
  {
   "cell_type": "code",
   "execution_count": null,
   "id": "e7c197da-156e-423f-b542-e48e29138692",
   "metadata": {},
   "outputs": [],
   "source": []
  },
  {
   "cell_type": "markdown",
   "id": "6f872ba6-9efa-4f31-8e70-3a2ff2741ae5",
   "metadata": {},
   "source": [
    "## Основные операции с данными"
   ]
  },
  {
   "cell_type": "markdown",
   "id": "63de8a20-2654-4576-8fe1-d1923dd6c49e",
   "metadata": {},
   "source": [
    "### Добавить новый столбец зарплата"
   ]
  },
  {
   "cell_type": "code",
   "execution_count": null,
   "id": "b5aadbe0-b511-4319-b406-0ed516db2a56",
   "metadata": {},
   "outputs": [],
   "source": []
  },
  {
   "cell_type": "code",
   "execution_count": null,
   "id": "fa518c9c-7033-4860-9622-39c2cb6e83c5",
   "metadata": {},
   "outputs": [],
   "source": []
  },
  {
   "cell_type": "markdown",
   "id": "ffd675bb-f13e-4605-b510-6eb971ea2fef",
   "metadata": {},
   "source": [
    "### Удалить строку"
   ]
  },
  {
   "cell_type": "code",
   "execution_count": null,
   "id": "4fd5a2fd-c5b7-4c35-b9ad-7e756d63766c",
   "metadata": {},
   "outputs": [],
   "source": []
  },
  {
   "cell_type": "code",
   "execution_count": null,
   "id": "37b12079-636f-49b6-984b-3e481f04044b",
   "metadata": {},
   "outputs": [],
   "source": []
  },
  {
   "cell_type": "markdown",
   "id": "1f000e0a-5b8e-40ab-864b-96ba8c7d18ca",
   "metadata": {},
   "source": [
    "### Переименовать столбцы"
   ]
  },
  {
   "cell_type": "code",
   "execution_count": null,
   "id": "80b26987-beae-4fce-87ca-370ef733c0ac",
   "metadata": {},
   "outputs": [],
   "source": []
  },
  {
   "cell_type": "code",
   "execution_count": null,
   "id": "1f8eb8a7-17af-4c84-8804-37fc1f8c68d1",
   "metadata": {},
   "outputs": [],
   "source": []
  }
 ],
 "metadata": {
  "kernelspec": {
   "display_name": "Python 3 (ipykernel)",
   "language": "python",
   "name": "python3"
  },
  "language_info": {
   "codemirror_mode": {
    "name": "ipython",
    "version": 3
   },
   "file_extension": ".py",
   "mimetype": "text/x-python",
   "name": "python",
   "nbconvert_exporter": "python",
   "pygments_lexer": "ipython3",
   "version": "3.11.4"
  }
 },
 "nbformat": 4,
 "nbformat_minor": 5
}
