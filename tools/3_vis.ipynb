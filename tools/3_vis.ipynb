{
 "cells": [
  {
   "cell_type": "markdown",
   "id": "6b5e14c6-e134-4f1d-8846-c31ba069af12",
   "metadata": {},
   "source": [
    "# Эффективное использование визуализаций на практическом примере"
   ]
  },
  {
   "cell_type": "markdown",
   "id": "c16b98c9-195b-44f5-b331-5f0e87de2232",
   "metadata": {},
   "source": [
    "## Загрузка и предобработка данных"
   ]
  },
  {
   "cell_type": "code",
   "execution_count": null,
   "id": "a5066337-12be-4d2a-9724-057a0f6cf837",
   "metadata": {},
   "outputs": [],
   "source": [
    "import warnings\n",
    "warnings.filterwarnings('ignore')"
   ]
  },
  {
   "cell_type": "code",
   "execution_count": null,
   "id": "d146ab65-1cab-422e-a52a-d2472137c5c4",
   "metadata": {},
   "outputs": [],
   "source": [
    "import seaborn as sns"
   ]
  },
  {
   "cell_type": "code",
   "execution_count": null,
   "id": "fca1b18f-c4d2-41bb-91f2-5604ea36ca88",
   "metadata": {},
   "outputs": [],
   "source": [
    "import pandas as pd\n",
    "import matplotlib.pyplot as plt\n",
    "import seaborn as sns\n",
    "\n",
    "# Загрузка данных\n",
    "df = pd.read_csv(\"dataset.csv\")"
   ]
  },
  {
   "cell_type": "code",
   "execution_count": null,
   "id": "1cb8821b-e706-4620-b51d-874df2a43261",
   "metadata": {},
   "outputs": [],
   "source": [
    "df"
   ]
  },
  {
   "cell_type": "code",
   "execution_count": null,
   "id": "1b016c18-9ff3-45b0-afe3-4009a92e7774",
   "metadata": {},
   "outputs": [],
   "source": [
    "df = df.drop_duplicates()"
   ]
  },
  {
   "cell_type": "code",
   "execution_count": null,
   "id": "70eb4b1d-4079-4bb7-97c8-7cd6053715c9",
   "metadata": {},
   "outputs": [],
   "source": [
    "df = df.dropna()"
   ]
  },
  {
   "cell_type": "code",
   "execution_count": null,
   "id": "3ab34aae-ea88-4378-9038-3fcfe751ee06",
   "metadata": {},
   "outputs": [],
   "source": [
    "df"
   ]
  },
  {
   "cell_type": "markdown",
   "id": "2123efdb-ff03-49b9-aefc-952790325fca",
   "metadata": {},
   "source": [
    "## Гистограмма распределения возраста"
   ]
  },
  {
   "cell_type": "code",
   "execution_count": null,
   "id": "b6639fbf-1559-4cf6-bc63-ab175b4a288c",
   "metadata": {},
   "outputs": [],
   "source": [
    "plt.figure(figsize=(10, 6))\n",
    "# Код\n",
    "plt.title('Распределение возраста сотрудников')\n",
    "plt.show()"
   ]
  },
  {
   "cell_type": "markdown",
   "id": "574b748a-3a4c-4017-bc71-93d24b73d920",
   "metadata": {},
   "source": [
    "## Количество сотрудников в различных подразделениях"
   ]
  },
  {
   "cell_type": "code",
   "execution_count": null,
   "id": "dff32651-e7e0-4ba6-8ea8-33dbec1f3a03",
   "metadata": {},
   "outputs": [],
   "source": [
    "plt.figure(figsize=(10, 6))\n",
    "# Код\n",
    "plt.title('Количество сотрудников по подразделениям')\n",
    "plt.show()"
   ]
  },
  {
   "cell_type": "markdown",
   "id": "9edac625-5dac-4b5d-bc4d-1bae330a982c",
   "metadata": {},
   "source": [
    "## Распределение зарплаты в зависимости от подразделения"
   ]
  },
  {
   "cell_type": "code",
   "execution_count": null,
   "id": "1782649f-54b9-4a2b-8b3b-77f1dce56a2d",
   "metadata": {},
   "outputs": [],
   "source": [
    "plt.figure(figsize=(10, 6))\n",
    "# Код\n",
    "plt.title('Распределение зарплаты по подразделениям')\n",
    "plt.show()"
   ]
  },
  {
   "cell_type": "markdown",
   "id": "71a49982-10ed-404c-807d-3e615b22266f",
   "metadata": {},
   "source": [
    "## Распределение зарплаты в зависимости от пола"
   ]
  },
  {
   "cell_type": "code",
   "execution_count": null,
   "id": "49d8ab61-85d3-480a-84af-0c29b2ff154e",
   "metadata": {},
   "outputs": [],
   "source": [
    "plt.figure(figsize=(10, 6))\n",
    "# Код\n",
    "plt.title('Распределение зарплаты по полу')\n",
    "plt.show()"
   ]
  },
  {
   "cell_type": "markdown",
   "id": "431b6758-620e-4e51-8245-9a48a8750ff6",
   "metadata": {},
   "source": [
    "## Стаж работы vs Зарплата"
   ]
  },
  {
   "cell_type": "code",
   "execution_count": null,
   "id": "c8274961-ae48-434b-9135-06c5de03f570",
   "metadata": {},
   "outputs": [],
   "source": [
    "plt.figure(figsize=(10, 6))\n",
    "# Код\n",
    "plt.title('Стаж работы vs Зарплата')\n",
    "plt.show()"
   ]
  },
  {
   "cell_type": "markdown",
   "id": "a49eaabc-44b0-4892-8abf-59fb6d9a5cb4",
   "metadata": {},
   "source": [
    "## Extra: Строим модель машинного обучения "
   ]
  },
  {
   "cell_type": "code",
   "execution_count": null,
   "id": "a5f7ef08-b4c3-430e-9598-f18721b6e4eb",
   "metadata": {},
   "outputs": [],
   "source": [
    "import pandas as pd\n",
    "import numpy as np\n",
    "from sklearn.model_selection import train_test_split\n",
    "from sklearn.linear_model import LinearRegression\n",
    "from sklearn.metrics import mean_squared_error, r2_score\n",
    "\n",
    "# Загрузка и предобработка данных\n",
    "df = pd.read_csv('dataset.csv')\n",
    "\n",
    "# Удаление строк с пропущенными значениями\n",
    "df = df.dropna(subset=['Зарплата', 'Возраст', 'Стаж работы'])\n",
    "\n",
    "# Преобразование категориальных переменных в числовые (\"Пол\" и \"Подразделение\")\n",
    "df['Пол'] = df['Пол'].map({'м': 1, 'ж': 0})\n",
    "df = pd.get_dummies(df, columns=['Подразделение'])\n",
    "\n",
    "# Выбор переменных для модели\n",
    "X = df[['Возраст', 'Стаж работы', 'Пол', 'Подразделение_IT', 'Подразделение_Продажи', 'Подразделение_Колл-центр']]\n",
    "y = df['Зарплата']\n",
    "\n",
    "# Разделение данных на обучающую и тестовую выборку\n",
    "X_train, X_test, y_train, y_test = train_test_split(X, y, test_size=0.2, random_state=42)\n",
    "\n",
    "# Создание и обучение модели\n",
    "model = LinearRegression()\n",
    "model.fit(X_train, y_train)\n",
    "\n",
    "# Предсказание\n",
    "y_pred = model.predict(X_test)\n",
    "\n",
    "# Оценка модели\n",
    "mse = mean_squared_error(y_test, y_pred)\n",
    "r2 = r2_score(y_test, y_pred)\n",
    "rmse = np.sqrt(mse)\n",
    "\n",
    "print(f'Mean Squared Error: {mse}')\n",
    "print(f'Root Mean Square Error: {rmse}')\n",
    "print(f'R^2 Score: {r2}')"
   ]
  },
  {
   "cell_type": "code",
   "execution_count": null,
   "id": "02fa1ea4-eb31-4ba1-ab89-55a2f0f5243f",
   "metadata": {},
   "outputs": [],
   "source": []
  }
 ],
 "metadata": {
  "kernelspec": {
   "display_name": "Python 3 (ipykernel)",
   "language": "python",
   "name": "python3"
  },
  "language_info": {
   "codemirror_mode": {
    "name": "ipython",
    "version": 3
   },
   "file_extension": ".py",
   "mimetype": "text/x-python",
   "name": "python",
   "nbconvert_exporter": "python",
   "pygments_lexer": "ipython3",
   "version": "3.11.4"
  }
 },
 "nbformat": 4,
 "nbformat_minor": 5
}
