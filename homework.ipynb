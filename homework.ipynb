{
 "cells": [
  {
   "cell_type": "markdown",
   "id": "25f455e2-faa4-4450-8d9d-f1aea95d46ed",
   "metadata": {},
   "source": [
    "# Домашнее задание по модулю 'Инструменты аналитика данных и статистика' - Набор данных Iris\n",
    "\n",
    "Рекомендации по выполнению:\n",
    "\n",
    "Используйте библиотеки Pandas, Seaborn, Matplotlib и Scipy.\n",
    "\n",
    "Уделите особое внимание качественной визуализации данных.\n",
    "\n",
    "## Импорт необходимых библиотек"
   ]
  },
  {
   "cell_type": "code",
   "execution_count": 1,
   "id": "3a4c760f-e0af-4a1f-80ce-9a55450a7e38",
   "metadata": {},
   "outputs": [],
   "source": [
    "import seaborn as sns\n",
    "import pandas as pd\n",
    "import matplotlib.pyplot as plt"
   ]
  },
  {
   "cell_type": "markdown",
   "id": "d74b089b-ce29-41e8-af21-43d2da2f95f6",
   "metadata": {},
   "source": [
    "## Загрузка набора данных Iris"
   ]
  },
  {
   "cell_type": "code",
   "execution_count": 2,
   "id": "d8560d4f-b9d6-478a-ad73-940d49bac6d0",
   "metadata": {},
   "outputs": [],
   "source": [
    "iris = sns.load_dataset('iris')"
   ]
  },
  {
   "cell_type": "markdown",
   "id": "bb2c922d-0da0-4a75-9941-5ba3f9f56712",
   "metadata": {},
   "source": [
    "## Отображение первых нескольких строк набора данных"
   ]
  },
  {
   "cell_type": "code",
   "execution_count": 4,
   "id": "eb99ac75-f246-456b-bcaf-bd379a5efabd",
   "metadata": {},
   "outputs": [
    {
     "data": {
      "text/html": [
       "<div>\n",
       "<style scoped>\n",
       "    .dataframe tbody tr th:only-of-type {\n",
       "        vertical-align: middle;\n",
       "    }\n",
       "\n",
       "    .dataframe tbody tr th {\n",
       "        vertical-align: top;\n",
       "    }\n",
       "\n",
       "    .dataframe thead th {\n",
       "        text-align: right;\n",
       "    }\n",
       "</style>\n",
       "<table border=\"1\" class=\"dataframe\">\n",
       "  <thead>\n",
       "    <tr style=\"text-align: right;\">\n",
       "      <th></th>\n",
       "      <th>sepal_length</th>\n",
       "      <th>sepal_width</th>\n",
       "      <th>petal_length</th>\n",
       "      <th>petal_width</th>\n",
       "      <th>species</th>\n",
       "    </tr>\n",
       "  </thead>\n",
       "  <tbody>\n",
       "    <tr>\n",
       "      <th>0</th>\n",
       "      <td>5.1</td>\n",
       "      <td>3.5</td>\n",
       "      <td>1.4</td>\n",
       "      <td>0.2</td>\n",
       "      <td>setosa</td>\n",
       "    </tr>\n",
       "    <tr>\n",
       "      <th>1</th>\n",
       "      <td>4.9</td>\n",
       "      <td>3.0</td>\n",
       "      <td>1.4</td>\n",
       "      <td>0.2</td>\n",
       "      <td>setosa</td>\n",
       "    </tr>\n",
       "    <tr>\n",
       "      <th>2</th>\n",
       "      <td>4.7</td>\n",
       "      <td>3.2</td>\n",
       "      <td>1.3</td>\n",
       "      <td>0.2</td>\n",
       "      <td>setosa</td>\n",
       "    </tr>\n",
       "    <tr>\n",
       "      <th>3</th>\n",
       "      <td>4.6</td>\n",
       "      <td>3.1</td>\n",
       "      <td>1.5</td>\n",
       "      <td>0.2</td>\n",
       "      <td>setosa</td>\n",
       "    </tr>\n",
       "    <tr>\n",
       "      <th>4</th>\n",
       "      <td>5.0</td>\n",
       "      <td>3.6</td>\n",
       "      <td>1.4</td>\n",
       "      <td>0.2</td>\n",
       "      <td>setosa</td>\n",
       "    </tr>\n",
       "  </tbody>\n",
       "</table>\n",
       "</div>"
      ],
      "text/plain": [
       "   sepal_length  sepal_width  petal_length  petal_width species\n",
       "0           5.1          3.5           1.4          0.2  setosa\n",
       "1           4.9          3.0           1.4          0.2  setosa\n",
       "2           4.7          3.2           1.3          0.2  setosa\n",
       "3           4.6          3.1           1.5          0.2  setosa\n",
       "4           5.0          3.6           1.4          0.2  setosa"
      ]
     },
     "execution_count": 4,
     "metadata": {},
     "output_type": "execute_result"
    }
   ],
   "source": [
    "iris.head()"
   ]
  },
  {
   "cell_type": "markdown",
   "id": "af9095ed-ade8-43c3-b478-021a79065c59",
   "metadata": {},
   "source": [
    "## Задание 1: Первичный анализ данных"
   ]
  },
  {
   "cell_type": "code",
   "execution_count": null,
   "id": "1cf4ce2d-162f-4b09-8d9a-2bba1b446a65",
   "metadata": {},
   "outputs": [],
   "source": [
    "# Напишите ваш код здесь..."
   ]
  },
  {
   "cell_type": "markdown",
   "id": "e6f32c72-dc13-42b4-91dd-1a0a5ab20e1e",
   "metadata": {},
   "source": [
    "## Задание 2: Очистка данных - обработка пропущенных значений и дубликатов"
   ]
  },
  {
   "cell_type": "code",
   "execution_count": null,
   "id": "ec8c4a6f-58de-4f83-b8fc-7f1f0c1e99ec",
   "metadata": {},
   "outputs": [],
   "source": [
    "# Напишите ваш код здесь..."
   ]
  },
  {
   "cell_type": "markdown",
   "id": "0e06100d-5b7f-4a73-a9f4-fa8add9c4225",
   "metadata": {},
   "source": [
    "## Задание 3: Описательная статистика по видам ирисов\n",
    "\n",
    "Вычислите среднее, медиану и моду для каждого измерения (длина и ширина чашелистиков и лепестков).\n"
   ]
  },
  {
   "cell_type": "code",
   "execution_count": null,
   "id": "8d7d0b64-7e50-42af-9c51-5de99c84735e",
   "metadata": {},
   "outputs": [],
   "source": [
    "mean_values = \n",
    "median_values = \n",
    "mode_values = "
   ]
  },
  {
   "cell_type": "markdown",
   "id": "51131cce-058c-471a-861b-a2addab7e0d6",
   "metadata": {},
   "source": [
    "Примените ЦПТ для создания выборочных распределений средних значений каждого измерения."
   ]
  },
  {
   "cell_type": "code",
   "execution_count": null,
   "id": "e5286846-1131-464f-8bb7-42f3764d7f37",
   "metadata": {},
   "outputs": [],
   "source": [
    "def sample_means(feature, n=30, iterations=1000):\n",
    "    means = []\n",
    "    for _ in range(iterations):\n",
    "        sample = iris[feature].sample(n)\n",
    "        means.append(sample.mean())\n",
    "    return means\n",
    "    \n",
    "# Напишите ваш код здесь...\n"
   ]
  },
  {
   "cell_type": "markdown",
   "id": "1a33cb0f-be07-4a52-85fe-335e3895efa9",
   "metadata": {},
   "source": [
    "## Задание 4: Гистограммы характеристик по видам ирисов\n",
    "\n",
    "Создайте гистограммы и ящиковые диаграммы для визуализации распределения этих измерений в зависимости от вида ириса."
   ]
  },
  {
   "cell_type": "code",
   "execution_count": null,
   "id": "d95a0472-f03b-4d0a-b8bb-c6582707a118",
   "metadata": {},
   "outputs": [],
   "source": [
    "# Напишите ваш код здесь..."
   ]
  },
  {
   "cell_type": "markdown",
   "id": "e80689e6-84d9-4f26-8de6-1c7d12eace98",
   "metadata": {},
   "source": [
    "## Задание 5: Попарные графики характеристик по видам ирисов"
   ]
  },
  {
   "cell_type": "code",
   "execution_count": null,
   "id": "f14c35ff-3075-4f86-a70b-7dbff3026a46",
   "metadata": {},
   "outputs": [],
   "source": [
    "# Напишите ваш код здесь..."
   ]
  }
 ],
 "metadata": {
  "kernelspec": {
   "display_name": "Python 3 (ipykernel)",
   "language": "python",
   "name": "python3"
  },
  "language_info": {
   "codemirror_mode": {
    "name": "ipython",
    "version": 3
   },
   "file_extension": ".py",
   "mimetype": "text/x-python",
   "name": "python",
   "nbconvert_exporter": "python",
   "pygments_lexer": "ipython3",
   "version": "3.11.4"
  }
 },
 "nbformat": 4,
 "nbformat_minor": 5
}
