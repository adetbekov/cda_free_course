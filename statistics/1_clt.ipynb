{
 "cells": [
  {
   "cell_type": "markdown",
   "id": "b8d774f8",
   "metadata": {},
   "source": [
    "# Меры центральной тенденции"
   ]
  },
  {
   "cell_type": "markdown",
   "id": "d35e9591",
   "metadata": {},
   "source": [
    "## Импорт необходимых библиотек\n"
   ]
  },
  {
   "cell_type": "code",
   "execution_count": null,
   "id": "303df341",
   "metadata": {},
   "outputs": [],
   "source": [
    "import numpy as np\n",
    "import matplotlib.pyplot as plt"
   ]
  },
  {
   "cell_type": "markdown",
   "id": "20e7cf57",
   "metadata": {},
   "source": [
    "## Создание набора данных\n"
   ]
  },
  {
   "cell_type": "code",
   "execution_count": null,
   "id": "fa13c19e",
   "metadata": {},
   "outputs": [],
   "source": [
    "# Создаем набор данных, состоящий из 100 случайных чисел в диапазоне от 1 до 100\n"
   ]
  },
  {
   "cell_type": "code",
   "execution_count": null,
   "id": "ae5e5913-6d76-498d-9093-87174fcbb35f",
   "metadata": {},
   "outputs": [],
   "source": []
  },
  {
   "cell_type": "markdown",
   "id": "192c80dd",
   "metadata": {},
   "source": [
    "## Меры центральной тенденции: среднее, медиана, мода\n"
   ]
  },
  {
   "cell_type": "code",
   "execution_count": null,
   "id": "62937a8a",
   "metadata": {},
   "outputs": [],
   "source": [
    "# Среднее значение\n",
    "\n",
    "\n",
    "# Медиана\n",
    "\n",
    "\n",
    "# Мода\n"
   ]
  },
  {
   "cell_type": "code",
   "execution_count": null,
   "id": "df1e31ed-d424-49f0-b34a-a82d771f012a",
   "metadata": {},
   "outputs": [],
   "source": []
  },
  {
   "cell_type": "markdown",
   "id": "902a040b",
   "metadata": {},
   "source": [
    "## Визуализация мер центральной тенденции\n"
   ]
  },
  {
   "cell_type": "code",
   "execution_count": null,
   "id": "9d5694f5",
   "metadata": {},
   "outputs": [],
   "source": [
    "plt.hist(data, bins=100, color='blue', alpha=0.7)\n",
    "plt.axvline(mean, color='red', linestyle='dashed', linewidth=2, label=f'Среднее: {mean:.2f}')\n",
    "plt.axvline(median, color='green', linestyle='dashed', linewidth=2, label=f'Медиана: {median}')\n",
    "plt.axvline(mode, color='orange', linestyle='dashed', linewidth=2, label=f'Мода: {mode}')\n",
    "\n",
    "plt.xlabel('Значения')\n",
    "plt.ylabel('Количество')\n",
    "plt.legend(loc='upper right')\n",
    "plt.title('Меры центральной тенденции')\n",
    "\n",
    "plt.show()"
   ]
  }
 ],
 "metadata": {
  "kernelspec": {
   "display_name": "Python 3 (ipykernel)",
   "language": "python",
   "name": "python3"
  },
  "language_info": {
   "codemirror_mode": {
    "name": "ipython",
    "version": 3
   },
   "file_extension": ".py",
   "mimetype": "text/x-python",
   "name": "python",
   "nbconvert_exporter": "python",
   "pygments_lexer": "ipython3",
   "version": "3.11.4"
  }
 },
 "nbformat": 4,
 "nbformat_minor": 5
}
